{
 "cells": [
  {
   "cell_type": "code",
   "execution_count": 207,
   "metadata": {},
   "outputs": [],
   "source": [
    "try:\n",
    "    import urllib.request as urllib2\n",
    "except ImportError:\n",
    "    import urllib2\n",
    "import requests\n",
    "import json\n",
    "import imdb\n",
    "import time\n",
    "import itertools\n",
    "# import wget\n",
    "import os\n",
    "import tmdbsimple as tmdb\n",
    "import numpy as np\n",
    "import random\n",
    "import matplotlib\n",
    "import matplotlib.pyplot as plt\n",
    "%matplotlib inline\n",
    "import seaborn as sns\n",
    "import pickle\n",
    "from operator import itemgetter "
   ]
  },
  {
   "cell_type": "code",
   "execution_count": 208,
   "metadata": {},
   "outputs": [
    {
     "name": "stdout",
     "output_type": "stream",
     "text": [
      "Folder already exists\n"
     ]
    }
   ],
   "source": [
    "# set here the path where you want the scraped folders to be saved!\n",
    "poster_folder='posters_final/'\n",
    "if poster_folder.split('/')[0] in os.listdir('./'):\n",
    "    print('Folder already exists')\n",
    "else:\n",
    "    os.mkdir('./'+poster_folder)"
   ]
  },
  {
   "cell_type": "code",
   "execution_count": 209,
   "metadata": {},
   "outputs": [
    {
     "data": {
      "text/plain": [
       "'posters_final/'"
      ]
     },
     "execution_count": 209,
     "metadata": {},
     "output_type": "execute_result"
    }
   ],
   "source": [
    "poster_folder"
   ]
  },
  {
   "cell_type": "code",
   "execution_count": 228,
   "metadata": {},
   "outputs": [],
   "source": [
    "# For the purpose of this example, i will be working with the 1999 Sci-Fi movie - \"The Matrix\"!\n",
    "\n",
    "api_key = '800fce5ab1ec74ebb99a75833c65f3df' #Enter your own API key here to run the code below. \n",
    "# Generate your own API key as explained above :)\n",
    "\n",
    "\n",
    "tmdb.API_KEY = api_key #This sets the API key setting for the tmdb object\n",
    "search = tmdb.Search() #this instantiates a tmdb \"search\" object which allows your to search for the movie\n",
    "\n",
    "def movie_search(movie):\n",
    "    response = search.movie(query=movie)\n",
    "    return response\n",
    "\n",
    "# def movie_search_titles(movie):\n",
    "#     response = search.movie(query=movie)\n",
    "#     movie_id=response['results'][:]['title']\n",
    "#     return movie_id\n",
    "\n",
    "\n",
    "# These functions take in a string movie name i.e. like \"The Matrix\" or \"Interstellar\"\n",
    "# What they return is pretty much clear in the name - Poster, ID , Info or genre of the Movie!\n",
    "\n",
    "def grab_poster_tmdb(movie):\n",
    "    response = search.movie(query=movie)\n",
    "    id=response['results'][0]['id']\n",
    "    movie = tmdb.Movies(id)\n",
    "    posterp=movie.info()['poster_path']\n",
    "    title=movie.info()['original_title']\n",
    "    url='image.tmdb.org/t/p/original'+posterp\n",
    "    title='_'.join(title.split(' '))\n",
    "    strcmd='wget -O '+poster_folder+title+'.jpg '+url\n",
    "    os.system(strcmd)\n",
    "\n",
    "    \n",
    "def get_movie_search_len(movie):\n",
    "    response = search.movie(query=movie)\n",
    "    return len(response)\n",
    "\n",
    "def get_movie_title_tmdb(movie):\n",
    "    response = search.movie(query=movie)\n",
    "    \n",
    "    movie_titles = []\n",
    "    for x in range(len(response)):\n",
    "        movie_titles.append(response['results'][x])\n",
    "        return movie_titles\n",
    "\n",
    "def get_movie_info_tmdb(movie):\n",
    "    response = search.movie(query=movie)\n",
    "    for x in len(response['results'][0]):        \n",
    "        id=response['results'][0]['id']\n",
    "        movie = tmdb.Movies(id)\n",
    "        info=movie.info()\n",
    "        return info\n",
    "\n",
    "def get_movie_genres_tmdb(movie):\n",
    "    response = search.movie(query=movie)\n",
    "    id=response['results'][0]['id']\n",
    "    movie = tmdb.Movies(id)\n",
    "    genres=movie.info()['genres']\n",
    "    return genres"
   ]
  },
  {
   "cell_type": "code",
   "execution_count": 237,
   "metadata": {},
   "outputs": [],
   "source": [
    "search_results = movie_search(\"The Matrix\")\n",
    "search_results2 = search_results[\"results\"]"
   ]
  },
  {
   "cell_type": "code",
   "execution_count": 238,
   "metadata": {},
   "outputs": [
    {
     "ename": "AttributeError",
     "evalue": "'list' object has no attribute 'items'",
     "output_type": "error",
     "traceback": [
      "\u001b[1;31m---------------------------------------------------------------------------\u001b[0m",
      "\u001b[1;31mAttributeError\u001b[0m                            Traceback (most recent call last)",
      "\u001b[1;32m<ipython-input-238-31566ebca4c5>\u001b[0m in \u001b[0;36m<module>\u001b[1;34m\u001b[0m\n\u001b[1;32m----> 1\u001b[1;33m \u001b[1;32mfor\u001b[0m \u001b[0mkey\u001b[0m\u001b[1;33m,\u001b[0m \u001b[0mvalue\u001b[0m \u001b[1;32min\u001b[0m \u001b[0msearch_results2\u001b[0m\u001b[1;33m.\u001b[0m\u001b[0mitems\u001b[0m\u001b[1;33m(\u001b[0m\u001b[1;33m)\u001b[0m \u001b[1;33m:\u001b[0m\u001b[1;33m\u001b[0m\u001b[1;33m\u001b[0m\u001b[0m\n\u001b[0m\u001b[0;32m      2\u001b[0m     \u001b[0mprint\u001b[0m \u001b[1;33m(\u001b[0m\u001b[0mkey\u001b[0m\u001b[1;33m,\u001b[0m \u001b[0mvalue\u001b[0m\u001b[1;33m)\u001b[0m\u001b[1;33m\u001b[0m\u001b[1;33m\u001b[0m\u001b[0m\n",
      "\u001b[1;31mAttributeError\u001b[0m: 'list' object has no attribute 'items'"
     ]
    }
   ],
   "source": [
    "for key, value in search_results2.items() :\n",
    "    print (key, value)"
   ]
  },
  {
   "cell_type": "code",
   "execution_count": 229,
   "metadata": {},
   "outputs": [
    {
     "ename": "TypeError",
     "evalue": "'int' object is not iterable",
     "output_type": "error",
     "traceback": [
      "\u001b[1;31m---------------------------------------------------------------------------\u001b[0m",
      "\u001b[1;31mTypeError\u001b[0m                                 Traceback (most recent call last)",
      "\u001b[1;32m<ipython-input-229-54d3efcdf352>\u001b[0m in \u001b[0;36m<module>\u001b[1;34m\u001b[0m\n\u001b[1;32m----> 1\u001b[1;33m \u001b[0mget_movie_info_tmdb\u001b[0m\u001b[1;33m(\u001b[0m\u001b[1;34m\"the Matrix\"\u001b[0m\u001b[1;33m)\u001b[0m\u001b[1;33m\u001b[0m\u001b[1;33m\u001b[0m\u001b[0m\n\u001b[0m",
      "\u001b[1;32m<ipython-input-228-2e265d0c16fb>\u001b[0m in \u001b[0;36mget_movie_info_tmdb\u001b[1;34m(movie)\u001b[0m\n\u001b[0;32m     47\u001b[0m \u001b[1;32mdef\u001b[0m \u001b[0mget_movie_info_tmdb\u001b[0m\u001b[1;33m(\u001b[0m\u001b[0mmovie\u001b[0m\u001b[1;33m)\u001b[0m\u001b[1;33m:\u001b[0m\u001b[1;33m\u001b[0m\u001b[1;33m\u001b[0m\u001b[0m\n\u001b[0;32m     48\u001b[0m     \u001b[0mresponse\u001b[0m \u001b[1;33m=\u001b[0m \u001b[0msearch\u001b[0m\u001b[1;33m.\u001b[0m\u001b[0mmovie\u001b[0m\u001b[1;33m(\u001b[0m\u001b[0mquery\u001b[0m\u001b[1;33m=\u001b[0m\u001b[0mmovie\u001b[0m\u001b[1;33m)\u001b[0m\u001b[1;33m\u001b[0m\u001b[1;33m\u001b[0m\u001b[0m\n\u001b[1;32m---> 49\u001b[1;33m     \u001b[1;32mfor\u001b[0m \u001b[0mx\u001b[0m \u001b[1;32min\u001b[0m \u001b[0mlen\u001b[0m\u001b[1;33m(\u001b[0m\u001b[0mresponse\u001b[0m\u001b[1;33m[\u001b[0m\u001b[1;34m'results'\u001b[0m\u001b[1;33m]\u001b[0m\u001b[1;33m)\u001b[0m\u001b[1;33m:\u001b[0m\u001b[1;33m\u001b[0m\u001b[1;33m\u001b[0m\u001b[0m\n\u001b[0m\u001b[0;32m     50\u001b[0m         \u001b[0mid\u001b[0m\u001b[1;33m=\u001b[0m\u001b[0mresponse\u001b[0m\u001b[1;33m[\u001b[0m\u001b[1;34m'results'\u001b[0m\u001b[1;33m]\u001b[0m\u001b[1;33m[\u001b[0m\u001b[0mx\u001b[0m\u001b[1;33m]\u001b[0m\u001b[1;33m[\u001b[0m\u001b[1;34m'title'\u001b[0m\u001b[1;33m]\u001b[0m\u001b[1;33m\u001b[0m\u001b[1;33m\u001b[0m\u001b[0m\n\u001b[0;32m     51\u001b[0m \u001b[1;33m\u001b[0m\u001b[0m\n",
      "\u001b[1;31mTypeError\u001b[0m: 'int' object is not iterable"
     ]
    }
   ],
   "source": [
    "get_movie_info_tmdb(\"the Matrix\")"
   ]
  },
  {
   "cell_type": "code",
   "execution_count": 213,
   "metadata": {},
   "outputs": [
    {
     "data": {
      "text/plain": [
       "{'page': 1,\n",
       " 'total_results': 38,\n",
       " 'total_pages': 2,\n",
       " 'results': [{'popularity': 33.747,\n",
       "   'vote_count': 17550,\n",
       "   'video': False,\n",
       "   'poster_path': '/f89U3ADr1oiB1s9GkdPOEpXUk5H.jpg',\n",
       "   'id': 603,\n",
       "   'adult': False,\n",
       "   'backdrop_path': '/ByDf0zjLSumz1MP1cDEo2JWVtU.jpg',\n",
       "   'original_language': 'en',\n",
       "   'original_title': 'The Matrix',\n",
       "   'genre_ids': [28, 878],\n",
       "   'title': 'The Matrix',\n",
       "   'vote_average': 8.1,\n",
       "   'overview': 'Set in the 22nd century, The Matrix tells the story of a computer hacker who joins a group of underground insurgents fighting the vast and powerful computers who now rule the earth.',\n",
       "   'release_date': '1999-03-30'},\n",
       "  {'popularity': 26.047,\n",
       "   'id': 604,\n",
       "   'video': False,\n",
       "   'vote_count': 7062,\n",
       "   'vote_average': 6.9,\n",
       "   'title': 'The Matrix Reloaded',\n",
       "   'release_date': '2003-05-15',\n",
       "   'original_language': 'en',\n",
       "   'original_title': 'The Matrix Reloaded',\n",
       "   'genre_ids': [12, 28, 53, 878],\n",
       "   'backdrop_path': '/sDxCd4nt3eR4qOCW1GoD0RabQtq.jpg',\n",
       "   'adult': False,\n",
       "   'overview': \"Six months after the events depicted in The Matrix, Neo has proved to be a good omen for the free humans, as more and more humans are being freed from the matrix and brought to Zion, the one and only stronghold of the Resistance.  Neo himself has discovered his superpowers including super speed, ability to see the codes of the things inside the matrix and a certain degree of pre-cognition. But a nasty piece of news hits the human resistance: 250,000 machine sentinels are digging to Zion and would reach them in 72 hours. As Zion prepares for the ultimate war, Neo, Morpheus and Trinity are advised by the Oracle to find the Keymaker who would help them reach the Source.  Meanwhile Neo's recurrent dreams depicting Trinity's death have got him worried and as if it was not enough, Agent Smith has somehow escaped deletion, has become more powerful than before and has fixed Neo as his next target.\",\n",
       "   'poster_path': '/8xEVAe84zlL9rkfYT6dZXero4KK.jpg'},\n",
       "  {'popularity': 22.405,\n",
       "   'id': 605,\n",
       "   'video': False,\n",
       "   'vote_count': 6356,\n",
       "   'vote_average': 6.6,\n",
       "   'title': 'The Matrix Revolutions',\n",
       "   'release_date': '2003-11-03',\n",
       "   'original_language': 'en',\n",
       "   'original_title': 'The Matrix Revolutions',\n",
       "   'genre_ids': [12, 28, 53, 878],\n",
       "   'backdrop_path': '/vay7LlUASz0W25ZEwDMWaOL299N.jpg',\n",
       "   'adult': False,\n",
       "   'overview': 'The human city of Zion defends itself against the massive invasion of the machines as Neo fights to end the war at another front while also opposing the rogue Agent Smith.',\n",
       "   'poster_path': '/cm14gG8xBghwIAy1GX0ryI2HA4U.jpg'},\n",
       "  {'popularity': 8.835,\n",
       "   'vote_count': 0,\n",
       "   'video': False,\n",
       "   'poster_path': '/uoQfAYR1NTax9akJ1ceeQTKNXeo.jpg',\n",
       "   'id': 624860,\n",
       "   'adult': False,\n",
       "   'backdrop_path': None,\n",
       "   'original_language': 'en',\n",
       "   'original_title': 'The Matrix 4',\n",
       "   'genre_ids': [28, 878],\n",
       "   'title': 'The Matrix 4',\n",
       "   'vote_average': 0,\n",
       "   'overview': 'The fourth installment in The Matrix franchise. Plot unknown.',\n",
       "   'release_date': '2022-03-30'},\n",
       "  {'popularity': 8.811,\n",
       "   'vote_count': 126,\n",
       "   'video': False,\n",
       "   'poster_path': '/fNG2JOskhQnttmAaj2knM5h59Io.jpg',\n",
       "   'id': 14543,\n",
       "   'adult': False,\n",
       "   'backdrop_path': '/lBdXACywnLwKUZmZkZ87djDQBeV.jpg',\n",
       "   'original_language': 'en',\n",
       "   'original_title': 'The Matrix Revisited',\n",
       "   'genre_ids': [99],\n",
       "   'title': 'The Matrix Revisited',\n",
       "   'vote_average': 6.8,\n",
       "   'overview': 'The film goes behind the scenes of the 1999 sci-fi movie The Matrix.',\n",
       "   'release_date': '2001-11-19'},\n",
       "  {'popularity': 3.539,\n",
       "   'vote_count': 5,\n",
       "   'video': False,\n",
       "   'poster_path': '/gb7C4oRzYWXWCuZMR1cwtHa53Pz.jpg',\n",
       "   'id': 591955,\n",
       "   'adult': False,\n",
       "   'backdrop_path': None,\n",
       "   'original_language': 'en',\n",
       "   'original_title': 'The Matrix Reloaded Revisited',\n",
       "   'genre_ids': [99],\n",
       "   'title': 'The Matrix Reloaded Revisited',\n",
       "   'vote_average': 7.4,\n",
       "   'overview': 'The making of The Matrix Reloaded:  Go to the middle movies furthest reaches via five documentary paths revealing 21 featurettes',\n",
       "   'release_date': '2004-12-07'},\n",
       "  {'popularity': 2.426,\n",
       "   'vote_count': 25,\n",
       "   'video': False,\n",
       "   'poster_path': '/gRni1Q651AZPnLqZczmahiIxG0s.jpg',\n",
       "   'id': 221495,\n",
       "   'adult': False,\n",
       "   'backdrop_path': None,\n",
       "   'original_language': 'en',\n",
       "   'original_title': 'The Matrix Recalibrated',\n",
       "   'genre_ids': [99, 878],\n",
       "   'title': 'The Matrix Recalibrated',\n",
       "   'vote_average': 6.7,\n",
       "   'overview': 'The making of Matrix Revolutions, The (2003) is briefly touched on here in this documentary. Interviews with various cast and crew members inform us how they were affected by the deaths of Gloria Foster and Aaliyah, and also delve into the making of the visual effects that takes up a lot of screen time. Written by Rhyl Donnelly',\n",
       "   'release_date': '2004-04-06'},\n",
       "  {'popularity': 2.447,\n",
       "   'vote_count': 3,\n",
       "   'video': False,\n",
       "   'poster_path': '/m2yIfRJYwpCgHON1Ig1pNKMWTxp.jpg',\n",
       "   'id': 684431,\n",
       "   'adult': False,\n",
       "   'backdrop_path': None,\n",
       "   'original_language': 'en',\n",
       "   'original_title': \"Making 'The Matrix'\",\n",
       "   'genre_ids': [28, 99, 878],\n",
       "   'title': \"Making 'The Matrix'\",\n",
       "   'vote_average': 7.3,\n",
       "   'overview': \"A promotional making-of documentary for the film Matrix, The (1999) that devotes its time to explaining the digital and practical effects contained in the film. This is very interesting, seeing as how they're giving away the cinematic secrets that they created solely for the this movie, that have now been spoofed and referenced in countless other films.\",\n",
       "   'release_date': '1999-09-21'},\n",
       "  {'popularity': 0.868,\n",
       "   'vote_count': 5,\n",
       "   'video': False,\n",
       "   'poster_path': '/61ASnmqvzpuz9VEfFElo3e2nIft.jpg',\n",
       "   'id': 503880,\n",
       "   'adult': False,\n",
       "   'backdrop_path': None,\n",
       "   'original_language': 'en',\n",
       "   'original_title': 'The Matrix Revolutions Revisited',\n",
       "   'genre_ids': [99],\n",
       "   'title': 'The Matrix Revolutions Revisited',\n",
       "   'vote_average': 8.4,\n",
       "   'overview': 'The making of The Matrix Revolutions:\\r The cataclysmic final confrontation chronicled through six documentary pods revealing 28 featurettes',\n",
       "   'release_date': '2004-12-07'},\n",
       "  {'popularity': 0.6,\n",
       "   'id': 344225,\n",
       "   'video': False,\n",
       "   'vote_count': 2,\n",
       "   'vote_average': 7,\n",
       "   'title': 'Sex and the Matrix',\n",
       "   'release_date': '2000-01-01',\n",
       "   'original_language': 'en',\n",
       "   'original_title': 'Sex and the Matrix',\n",
       "   'genre_ids': [],\n",
       "   'backdrop_path': None,\n",
       "   'adult': False,\n",
       "   'overview': 'A spoof created for the 2000 MTV Movie Awards, combining The Matrix and \"Sex in the City\".',\n",
       "   'poster_path': None},\n",
       "  {'popularity': 0.622,\n",
       "   'vote_count': 1,\n",
       "   'video': False,\n",
       "   'poster_path': '/645ZsitYflnN1tlNpllSvDQXoQ0.jpg',\n",
       "   'id': 684735,\n",
       "   'adult': False,\n",
       "   'backdrop_path': None,\n",
       "   'original_language': 'en',\n",
       "   'original_title': \"Making 'Enter the Matrix'\",\n",
       "   'genre_ids': [28, 99, 878],\n",
       "   'title': \"Making 'Enter the Matrix'\",\n",
       "   'vote_average': 6,\n",
       "   'overview': \"A look at Enter the Matrix: The game's story picks up just before The Matrix Reloaded and runs parallel to that of the film. Bend the rules of the Matrix with martial arts, pilot the fastest hovercraft in the fleet, or just fight with lots of guns.\",\n",
       "   'release_date': '2003-10-14'},\n",
       "  {'popularity': 0.941,\n",
       "   'vote_count': 0,\n",
       "   'video': False,\n",
       "   'poster_path': None,\n",
       "   'id': 371610,\n",
       "   'adult': False,\n",
       "   'backdrop_path': None,\n",
       "   'original_language': 'en',\n",
       "   'original_title': 'David Icke - Secrets of the Matrix',\n",
       "   'genre_ids': [99],\n",
       "   'title': 'David Icke - Secrets of the Matrix',\n",
       "   'vote_average': 0,\n",
       "   'overview': 'Since 1990 David Icke has been on an amazing journey of self and collective discovery to establish the real power behind apparently \"random\" world events like 9/11 and the \"war on terrorism\".\\r Here he reveals that a network of interbreeding bloodlines manipulating through their web of interconnecting secret societies have been pursuing an agenda for thousands of years to impose a globally centralized fascist state with total control and surveillance of the population.  The attacks of September 11th - not the work of \"bin Laden\" - and the subsequent \"war on terrorism\" are a means through which this is designed to be achieved.  Over more than six hours and with hundreds of illustrations, David Icke also reveals the illusion that is life in this \"physical\" reality. How is the \"world\" a provable illusion - just a lucid dream? How do we create it and how can we change the dream to one that we would like to experience?',\n",
       "   'release_date': '2004-10-05'},\n",
       "  {'popularity': 0.6,\n",
       "   'vote_count': 2,\n",
       "   'video': False,\n",
       "   'poster_path': '/zkpzfTyF7BjadH1PZKlC6kueWXf.jpg',\n",
       "   'id': 684731,\n",
       "   'adult': False,\n",
       "   'backdrop_path': None,\n",
       "   'original_language': 'en',\n",
       "   'original_title': 'The Matrix Reloaded: Pre-Load',\n",
       "   'genre_ids': [28, 99, 878],\n",
       "   'title': 'The Matrix Reloaded: Pre-Load',\n",
       "   'vote_average': 4,\n",
       "   'overview': 'This making-of piece offers the standard mix of movie snippets, behind the scenes materials, and interviews from cast and crew on the making of the film.',\n",
       "   'release_date': '2003-10-14'},\n",
       "  {'popularity': 1.9,\n",
       "   'vote_count': 11,\n",
       "   'video': True,\n",
       "   'poster_path': None,\n",
       "   'id': 174615,\n",
       "   'adult': False,\n",
       "   'backdrop_path': None,\n",
       "   'original_language': 'en',\n",
       "   'original_title': 'Return to Source: The Philosophy of The Matrix',\n",
       "   'genre_ids': [99],\n",
       "   'title': 'Return to Source: The Philosophy of The Matrix',\n",
       "   'vote_average': 7.2,\n",
       "   'overview': 'An hour long discussion on the philosophical concepts that inspired, and are presented in the trilogy. This is one of the two feature-length documentaries on disc number 8 of the 10-Disc Ultimate Set.',\n",
       "   'release_date': '2004-12-07'},\n",
       "  {'popularity': 0.6,\n",
       "   'id': 274866,\n",
       "   'video': False,\n",
       "   'vote_count': 2,\n",
       "   'vote_average': 7.5,\n",
       "   'title': 'The Roots of the Matrix',\n",
       "   'release_date': '2004-12-07',\n",
       "   'original_language': 'en',\n",
       "   'original_title': 'The Roots of the Matrix',\n",
       "   'genre_ids': [99],\n",
       "   'backdrop_path': None,\n",
       "   'adult': False,\n",
       "   'overview': \"Disc 8 of 10 of 'The Matrix: Ultimate Edition': Probe the philosophical and technological inspirations of The Matrix Trilogy through two insightful documentaries:  - Return to Source: Philosophy &amp; The Matrix documentary – Scholars, philosophers and theorists deconstruct the intellectual underpinnings of the trilogy  - The Hard Problem: The Science Behind the Fiction documentary – Is the notion of a real Matrix plausible? An investigation of the technologies that inspire the metaphor of the Matrix.\",\n",
       "   'poster_path': '/qmOtnpPihV3Wj6ukpiNIgzo4Ax7.jpg'},\n",
       "  {'popularity': 1.157,\n",
       "   'id': 505806,\n",
       "   'video': False,\n",
       "   'vote_count': 1,\n",
       "   'vote_average': 4,\n",
       "   'title': 'A Glitch in the Matrix',\n",
       "   'release_date': '2018-02-17',\n",
       "   'original_language': 'en',\n",
       "   'original_title': 'A Glitch in the Matrix',\n",
       "   'genre_ids': [99],\n",
       "   'backdrop_path': '/htYaLEQ41N2Ls7mhWvgP8JD21E3.jpg',\n",
       "   'adult': False,\n",
       "   'overview': \"In 'A Glitch in the Matrix', journalist David Fuller analyzes and assesses Dr. Jordan B Peterson's recent viral interview with Cathy Newman, unpacking the deeper political, psychological and archetypal levels of the clash.\",\n",
       "   'poster_path': '/7vZPj3lFSc6eJsLk5nzvqacvrGR.jpg'},\n",
       "  {'popularity': 0.6,\n",
       "   'vote_count': 1,\n",
       "   'video': False,\n",
       "   'poster_path': '/zkpzfTyF7BjadH1PZKlC6kueWXf.jpg',\n",
       "   'id': 684729,\n",
       "   'adult': False,\n",
       "   'backdrop_path': None,\n",
       "   'original_language': 'en',\n",
       "   'original_title': 'The Matrix Reloaded: Car Chase',\n",
       "   'genre_ids': [28, 99, 878],\n",
       "   'title': 'The Matrix Reloaded: Car Chase',\n",
       "   'vote_average': 6,\n",
       "   'overview': \"This thirty-minute documentary follows the Wachowski brothers and the film's crew through production on the film's famed highway chase sequence. We get interviews with the visual effects supervisors, the stunt coordinators and even are taken through aspects of pre-production and planning for the scene. Then the documentary moves into production, the scariest aspect of which is certainly Carrie Anne-Moss trying to learn to ride a motorcycle good enough to do so safely without helmet for the scene. We also watch as the stretch of freeway used in the film is being built.\",\n",
       "   'release_date': '2004-12-07'},\n",
       "  {'popularity': 0.6,\n",
       "   'vote_count': 0,\n",
       "   'video': False,\n",
       "   'poster_path': '/hSTervHaROcTd8Ir3DPfepN80dL.jpg',\n",
       "   'id': 684428,\n",
       "   'adult': False,\n",
       "   'backdrop_path': None,\n",
       "   'original_language': 'en',\n",
       "   'original_title': 'The Matrix: What Is Bullet-Time?',\n",
       "   'genre_ids': [28, 99, 878],\n",
       "   'title': 'The Matrix: What Is Bullet-Time?',\n",
       "   'vote_average': 0,\n",
       "   'overview': 'Special Effects wizard John Gaeta demonstrates how the \"Bullet-Time\" effects were created for the film Matrix, The (1999).',\n",
       "   'release_date': '1999-09-21'},\n",
       "  {'popularity': 3.3,\n",
       "   'vote_count': 9,\n",
       "   'video': False,\n",
       "   'poster_path': None,\n",
       "   'id': 26214,\n",
       "   'adult': False,\n",
       "   'backdrop_path': None,\n",
       "   'original_language': 'en',\n",
       "   'original_title': 'The American Matrix - Age Of Deception',\n",
       "   'genre_ids': [99],\n",
       "   'title': 'The American Matrix - Age Of Deception',\n",
       "   'vote_average': 5,\n",
       "   'overview': 'A shocking new 2 hour film by B.A. Brooks. This 2010 release is a follow up to \"The Decline And Fall Of America\" which was released in 2008. \"The American Matrix - Age Of Deception\" details news items that all people should be aware of such as the economic collapse of The United States and the formation of the a New World Order. See what has really been going on in America today.',\n",
       "   'release_date': '2010-01-01'},\n",
       "  {'popularity': 0.6,\n",
       "   'id': 696109,\n",
       "   'video': False,\n",
       "   'vote_count': 0,\n",
       "   'vote_average': 0,\n",
       "   'title': 'A Glitch In The Matrix',\n",
       "   'release_date': '',\n",
       "   'original_language': 'en',\n",
       "   'original_title': 'A Glitch In The Matrix',\n",
       "   'genre_ids': [],\n",
       "   'backdrop_path': None,\n",
       "   'adult': False,\n",
       "   'overview': 'Are we in fact living in a simulation? This is the question postulated, wrestled with, and ultimately argued for in the latest provocation from acclaimed documentary stylist Rodney Ascher (Room 237, The Nightmare) through archival footage, compelling interviews with real people shrouded in digital avatars, and a collection of cases from some of our most iconoclastic figures in contemporary culture.',\n",
       "   'poster_path': None}]}"
      ]
     },
     "execution_count": 213,
     "metadata": {},
     "output_type": "execute_result"
    }
   ],
   "source": [
    "movie_search(\"The Matrix\")"
   ]
  },
  {
   "cell_type": "code",
   "execution_count": 6,
   "metadata": {},
   "outputs": [
    {
     "data": {
      "text/plain": [
       "[{'id': 28, 'name': 'Action'}, {'id': 878, 'name': 'Science Fiction'}]"
      ]
     },
     "execution_count": 6,
     "metadata": {},
     "output_type": "execute_result"
    }
   ],
   "source": [
    "get_movie_genres_tmdb(\"The Matrix\")"
   ]
  },
  {
   "cell_type": "code",
   "execution_count": 7,
   "metadata": {},
   "outputs": [],
   "source": [
    "grab_poster_tmdb(\"The Matrix\")"
   ]
  },
  {
   "cell_type": "code",
   "execution_count": null,
   "metadata": {},
   "outputs": [],
   "source": []
  },
  {
   "cell_type": "code",
   "execution_count": 8,
   "metadata": {},
   "outputs": [
    {
     "data": {
      "text/plain": [
       "{'page': 1,\n",
       " 'total_results': 6,\n",
       " 'total_pages': 1,\n",
       " 'results': [{'popularity': 22.322,\n",
       "   'vote_count': 4166,\n",
       "   'video': False,\n",
       "   'poster_path': '/ucqtAussxYNRw4lGvRaSbRJLskV.jpg',\n",
       "   'id': 49040,\n",
       "   'adult': False,\n",
       "   'backdrop_path': '/akNBILfG0vh7WhuzjA1bXfrgpYI.jpg',\n",
       "   'original_language': 'en',\n",
       "   'original_title': 'The Bourne Legacy',\n",
       "   'genre_ids': [28, 53],\n",
       "   'title': 'The Bourne Legacy',\n",
       "   'vote_average': 6.1,\n",
       "   'overview': 'New CIA operative Aaron Cross experiences life-or-death stakes that have been triggered by the previous actions of Jason Bourne.',\n",
       "   'release_date': '2012-08-08'},\n",
       "  {'popularity': 24.306,\n",
       "   'id': 2501,\n",
       "   'video': False,\n",
       "   'vote_count': 6459,\n",
       "   'vote_average': 7.4,\n",
       "   'title': 'The Bourne Identity',\n",
       "   'release_date': '2002-06-14',\n",
       "   'original_language': 'en',\n",
       "   'original_title': 'The Bourne Identity',\n",
       "   'genre_ids': [28, 18, 9648, 53],\n",
       "   'backdrop_path': '/pqp1YaqfHhshB0cvzyHeG9zvkzb.jpg',\n",
       "   'adult': False,\n",
       "   'overview': 'Wounded to the brink of death and suffering from amnesia, Jason Bourne is rescued at sea by a fisherman. With nothing to go on but a Swiss bank account number, he starts to reconstruct his life, but finds that many people he encounters want him dead. However, Bourne realizes that he has the combat and mental skills of a world-class spy—but who does he work for?',\n",
       "   'poster_path': '/vN6jGCuzefysLVFrzK3Vs6xAdu1.jpg'},\n",
       "  {'popularity': 21.255,\n",
       "   'vote_count': 5227,\n",
       "   'video': False,\n",
       "   'poster_path': '/7IYGiDrquvX3q7e9PV6Pejs6b2g.jpg',\n",
       "   'id': 2502,\n",
       "   'adult': False,\n",
       "   'backdrop_path': '/fE7RqvVHbGHjBC9NjIjlLh2t4zK.jpg',\n",
       "   'original_language': 'en',\n",
       "   'original_title': 'The Bourne Supremacy',\n",
       "   'genre_ids': [28, 18, 53],\n",
       "   'title': 'The Bourne Supremacy',\n",
       "   'vote_average': 7.3,\n",
       "   'overview': 'When a CIA operation to purchase classified Russian documents is blown by a rival agent, who then shows up in the sleepy seaside village where Bourne and Marie have been living. The pair run for their lives and Bourne, who promised retaliation should anyone from his former life attempt contact, is forced to once again take up his life as a trained assassin to survive.',\n",
       "   'release_date': '2004-07-23'},\n",
       "  {'popularity': 20.397,\n",
       "   'vote_count': 5345,\n",
       "   'video': False,\n",
       "   'poster_path': '/d4DuphCHCjVUyffExnK5nLbn39K.jpg',\n",
       "   'id': 2503,\n",
       "   'adult': False,\n",
       "   'backdrop_path': '/dQwbk4WgOjXTj8WT4CYe4E2IkId.jpg',\n",
       "   'original_language': 'en',\n",
       "   'original_title': 'The Bourne Ultimatum',\n",
       "   'genre_ids': [28, 18, 9648, 53],\n",
       "   'title': 'The Bourne Ultimatum',\n",
       "   'vote_average': 7.4,\n",
       "   'overview': \"Bourne is brought out of hiding once again by reporter Simon Ross who is trying to unveil Operation Blackbriar, an upgrade to Project Treadstone, in a series of newspaper columns. Information from the reporter stirs a new set of memories, and Bourne must finally uncover his dark past while dodging The Company's best efforts to eradicate him.\",\n",
       "   'release_date': '2007-08-03'},\n",
       "  {'popularity': 22.055,\n",
       "   'vote_count': 4174,\n",
       "   'video': False,\n",
       "   'poster_path': '/xA7N41glw17MBQtcWSm2eBlBRuG.jpg',\n",
       "   'id': 324668,\n",
       "   'adult': False,\n",
       "   'backdrop_path': '/7mHeyU0a538bgguOeF57I8ZroSk.jpg',\n",
       "   'original_language': 'en',\n",
       "   'original_title': 'Jason Bourne',\n",
       "   'genre_ids': [28, 53],\n",
       "   'title': 'Jason Bourne',\n",
       "   'vote_average': 6.2,\n",
       "   'overview': 'The most dangerous former operative of the CIA is drawn out of hiding to uncover hidden truths about his past.',\n",
       "   'release_date': '2016-07-27'},\n",
       "  {'popularity': 4.096,\n",
       "   'genre_ids': [28, 53],\n",
       "   'video': False,\n",
       "   'vote_count': 0,\n",
       "   'original_language': 'en',\n",
       "   'adult': False,\n",
       "   'title': 'Untitled Jeremy Renner/Bourne Sequel',\n",
       "   'original_title': 'Untitled Jeremy Renner/Bourne Sequel',\n",
       "   'backdrop_path': None,\n",
       "   'id': 393640,\n",
       "   'vote_average': 0,\n",
       "   'overview': 'Plot is unknown.',\n",
       "   'poster_path': None}]}"
      ]
     },
     "execution_count": 8,
     "metadata": {},
     "output_type": "execute_result"
    }
   ],
   "source": [
    "search = tmdb.Search()\n",
    "response = search.movie(query='The Bourne')\n",
    "response"
   ]
  },
  {
   "cell_type": "code",
   "execution_count": 9,
   "metadata": {
    "scrolled": true
   },
   "outputs": [
    {
     "name": "stdout",
     "output_type": "stream",
     "text": [
      "----------------------------------------------------------------\n",
      "['popularity', 'vote_count', 'video', 'poster_path', 'id', 'adult', 'backdrop_path', 'original_language', 'original_title', 'genre_ids', 'title', 'vote_average', 'overview', 'release_date']\n",
      "The Bourne Legacy 49040 2012-08-08 22.322\n",
      "----------------------------------------------------------------\n",
      "['popularity', 'id', 'video', 'vote_count', 'vote_average', 'title', 'release_date', 'original_language', 'original_title', 'genre_ids', 'backdrop_path', 'adult', 'overview', 'poster_path']\n",
      "The Bourne Identity 2501 2002-06-14 24.306\n",
      "----------------------------------------------------------------\n",
      "['popularity', 'vote_count', 'video', 'poster_path', 'id', 'adult', 'backdrop_path', 'original_language', 'original_title', 'genre_ids', 'title', 'vote_average', 'overview', 'release_date']\n",
      "The Bourne Supremacy 2502 2004-07-23 21.255\n",
      "----------------------------------------------------------------\n",
      "['popularity', 'vote_count', 'video', 'poster_path', 'id', 'adult', 'backdrop_path', 'original_language', 'original_title', 'genre_ids', 'title', 'vote_average', 'overview', 'release_date']\n",
      "The Bourne Ultimatum 2503 2007-08-03 20.397\n",
      "----------------------------------------------------------------\n",
      "['popularity', 'vote_count', 'video', 'poster_path', 'id', 'adult', 'backdrop_path', 'original_language', 'original_title', 'genre_ids', 'title', 'vote_average', 'overview', 'release_date']\n",
      "Jason Bourne 324668 2016-07-27 22.055\n",
      "----------------------------------------------------------------\n",
      "['popularity', 'genre_ids', 'video', 'vote_count', 'original_language', 'adult', 'title', 'original_title', 'backdrop_path', 'id', 'vote_average', 'overview', 'poster_path']\n",
      "Untitled Jeremy Renner/Bourne Sequel 393640 --------- 4.096\n"
     ]
    }
   ],
   "source": [
    "for s in search.results:\n",
    "    print(\"-\"*64)\n",
    "    print(list(s.keys()))\n",
    "    if 'release_date' not in list(s.keys()):\n",
    "        s['release_date'] = \"---------\"\n",
    "    print(s['title'], s['id'], s['release_date'], s['popularity'])"
   ]
  },
  {
   "cell_type": "code",
   "execution_count": 10,
   "metadata": {},
   "outputs": [
    {
     "name": "stdout",
     "output_type": "stream",
     "text": [
      "All the Movie information from TMDB gets stored in a dictionary with the following keys for easy access -\n"
     ]
    },
    {
     "data": {
      "text/plain": [
       "dict_keys(['adult', 'backdrop_path', 'belongs_to_collection', 'budget', 'genres', 'homepage', 'id', 'imdb_id', 'original_language', 'original_title', 'overview', 'popularity', 'poster_path', 'production_companies', 'production_countries', 'release_date', 'revenue', 'runtime', 'spoken_languages', 'status', 'tagline', 'title', 'video', 'vote_average', 'vote_count'])"
      ]
     },
     "execution_count": 10,
     "metadata": {},
     "output_type": "execute_result"
    }
   ],
   "source": [
    "info=get_movie_info_tmdb(\"The Matrix\")\n",
    "print(\"All the Movie information from TMDB gets stored in a dictionary with the following keys for easy access -\")\n",
    "info.keys()"
   ]
  },
  {
   "cell_type": "code",
   "execution_count": 11,
   "metadata": {},
   "outputs": [
    {
     "name": "stdout",
     "output_type": "stream",
     "text": [
      "Welcome to the Real World.\n"
     ]
    }
   ],
   "source": [
    "info=get_movie_info_tmdb(\"The Matrix\")\n",
    "print(info['tagline'])"
   ]
  },
  {
   "cell_type": "markdown",
   "metadata": {},
   "source": [
    "## IMDB API"
   ]
  },
  {
   "cell_type": "code",
   "execution_count": 4,
   "metadata": {},
   "outputs": [],
   "source": [
    "from imdb import IMDb\n",
    "\n",
    "# create an instance of the IMDb class\n",
    "ia = IMDb()"
   ]
  },
  {
   "cell_type": "code",
   "execution_count": 14,
   "metadata": {},
   "outputs": [
    {
     "data": {
      "text/plain": [
       "<Movie id:0133093[http] title:_The Matrix (1999)_>"
      ]
     },
     "execution_count": 14,
     "metadata": {},
     "output_type": "execute_result"
    }
   ],
   "source": [
    "movies = ia.search_movie('matrix')\n",
    "movies[0]"
   ]
  },
  {
   "cell_type": "code",
   "execution_count": 23,
   "metadata": {},
   "outputs": [
    {
     "data": {
      "text/plain": [
       "{'main': ['cast',\n",
       "  'genres',\n",
       "  'runtimes',\n",
       "  'countries',\n",
       "  'country codes',\n",
       "  'language codes',\n",
       "  'color info',\n",
       "  'aspect ratio',\n",
       "  'sound mix',\n",
       "  'box office',\n",
       "  'certificates',\n",
       "  'original air date',\n",
       "  'rating',\n",
       "  'votes',\n",
       "  'cover url',\n",
       "  'plot outline',\n",
       "  'languages',\n",
       "  'title',\n",
       "  'year',\n",
       "  'kind',\n",
       "  'directors',\n",
       "  'writers',\n",
       "  'producers',\n",
       "  'composers',\n",
       "  'cinematographers',\n",
       "  'editors',\n",
       "  'editorial department',\n",
       "  'casting directors',\n",
       "  'production designers',\n",
       "  'art directors',\n",
       "  'set decorators',\n",
       "  'costume designers',\n",
       "  'make up department',\n",
       "  'production managers',\n",
       "  'assistant directors',\n",
       "  'art department',\n",
       "  'sound department',\n",
       "  'special effects',\n",
       "  'visual effects',\n",
       "  'stunts',\n",
       "  'camera department',\n",
       "  'animation department',\n",
       "  'casting department',\n",
       "  'costume departmen',\n",
       "  'location management',\n",
       "  'music department',\n",
       "  'script department',\n",
       "  'transportation department',\n",
       "  'miscellaneous',\n",
       "  'akas',\n",
       "  'writer',\n",
       "  'director',\n",
       "  'top 250 rank',\n",
       "  'production companies',\n",
       "  'distributors',\n",
       "  'special effects companies',\n",
       "  'other companies'],\n",
       " 'plot': ['plot', 'synopsis']}"
      ]
     },
     "execution_count": 23,
     "metadata": {},
     "output_type": "execute_result"
    }
   ],
   "source": [
    "movie = ia.get_movie('0133093')\n",
    "movie.infoset2keys"
   ]
  },
  {
   "cell_type": "code",
   "execution_count": 24,
   "metadata": {},
   "outputs": [
    {
     "data": {
      "text/plain": [
       "{'taglines': ['taglines'], 'plot': ['plot', 'synopsis']}"
      ]
     },
     "execution_count": 24,
     "metadata": {},
     "output_type": "execute_result"
    }
   ],
   "source": [
    "movie = ia.get_movie('0094226', info=['taglines', 'plot'])\n",
    "movie.infoset2keys"
   ]
  },
  {
   "cell_type": "code",
   "execution_count": 25,
   "metadata": {},
   "outputs": [
    {
     "data": {
      "text/plain": [
       "'The Chicago Dream is that big'"
      ]
     },
     "execution_count": 25,
     "metadata": {},
     "output_type": "execute_result"
    }
   ],
   "source": [
    "movie.get('title')\n",
    "movie.get('taglines')[0]"
   ]
  },
  {
   "cell_type": "code",
   "execution_count": 19,
   "metadata": {},
   "outputs": [],
   "source": [
    "title = movie.get('title')\n",
    "title"
   ]
  },
  {
   "cell_type": "code",
   "execution_count": 12,
   "metadata": {},
   "outputs": [
    {
     "name": "stdout",
     "output_type": "stream",
     "text": [
      "All the information we can get about this movie from IMDB-\n"
     ]
    },
    {
     "data": {
      "text/plain": [
       "['title',\n",
       " 'kind',\n",
       " 'year',\n",
       " 'cover url',\n",
       " 'cast',\n",
       " 'genres',\n",
       " 'runtimes',\n",
       " 'countries',\n",
       " 'country codes',\n",
       " 'language codes',\n",
       " 'color info',\n",
       " 'aspect ratio',\n",
       " 'sound mix',\n",
       " 'box office',\n",
       " 'certificates',\n",
       " 'original air date',\n",
       " 'rating',\n",
       " 'votes',\n",
       " 'plot outline',\n",
       " 'languages',\n",
       " 'directors',\n",
       " 'writers',\n",
       " 'producers',\n",
       " 'composers',\n",
       " 'cinematographers',\n",
       " 'editors',\n",
       " 'editorial department',\n",
       " 'casting directors',\n",
       " 'production designers',\n",
       " 'art directors',\n",
       " 'set decorators',\n",
       " 'costume designers',\n",
       " 'make up department',\n",
       " 'production managers',\n",
       " 'assistant directors',\n",
       " 'art department',\n",
       " 'sound department',\n",
       " 'special effects',\n",
       " 'visual effects',\n",
       " 'stunts',\n",
       " 'camera department',\n",
       " 'animation department',\n",
       " 'casting department',\n",
       " 'costume departmen',\n",
       " 'location management',\n",
       " 'music department',\n",
       " 'script department',\n",
       " 'transportation department',\n",
       " 'miscellaneous',\n",
       " 'akas',\n",
       " 'writer',\n",
       " 'director',\n",
       " 'top 250 rank',\n",
       " 'production companies',\n",
       " 'distributors',\n",
       " 'special effects companies',\n",
       " 'other companies',\n",
       " 'plot',\n",
       " 'synopsis',\n",
       " 'canonical title',\n",
       " 'long imdb title',\n",
       " 'long imdb canonical title',\n",
       " 'smart canonical title',\n",
       " 'smart long imdb canonical title',\n",
       " 'full-size cover url']"
      ]
     },
     "execution_count": 12,
     "metadata": {},
     "output_type": "execute_result"
    }
   ],
   "source": [
    "# Create the IMDB object that will be used to access the IMDb's database.\n",
    "imbd_object = imdb.IMDb() # by default access the web.\n",
    "\n",
    "# Search for a movie (get a list of Movie objects).\n",
    "results = imbd_object.search_movie('The Matrix')\n",
    "\n",
    "# As this returns a list of all movies containing the word \"The Matrix\", we pick the first element\n",
    "movie = results[0]\n",
    "\n",
    "imbd_object.update(movie)\n",
    "\n",
    "\n",
    "print(\"All the information we can get about this movie from IMDB-\")\n",
    "movie.keys()"
   ]
  },
  {
   "cell_type": "code",
   "execution_count": 13,
   "metadata": {},
   "outputs": [
    {
     "name": "stdout",
     "output_type": "stream",
     "text": [
      "The genres associated with the movie are -  ['Action', 'Sci-Fi']\n"
     ]
    }
   ],
   "source": [
    "print(\"The genres associated with the movie are - \",movie['genres'])"
   ]
  },
  {
   "cell_type": "code",
   "execution_count": 14,
   "metadata": {},
   "outputs": [
    {
     "name": "stdout",
     "output_type": "stream",
     "text": [
      "https://m.media-amazon.com/images/M/MV5BNzQzOTk3OTAtNDQ0Zi00ZTVkLWI0MTEtMDllZjNkYzNjNTc4L2ltYWdlXkEyXkFqcGdeQXVyNjU0OTQ0OTY@.jpg\n"
     ]
    }
   ],
   "source": [
    "print(movie['full-size cover url'])"
   ]
  },
  {
   "cell_type": "code",
   "execution_count": 15,
   "metadata": {},
   "outputs": [
    {
     "name": "stdout",
     "output_type": "stream",
     "text": [
      "The genres for The Matrix pulled from IMDB are - ['Action', 'Sci-Fi']\n",
      "The genres for The Matrix pulled from TMDB are - [{'id': 28, 'name': 'Action'}, {'id': 878, 'name': 'Science Fiction'}]\n"
     ]
    }
   ],
   "source": [
    "print(\"The genres for The Matrix pulled from IMDB are -\",movie['genres'])\n",
    "print(\"The genres for The Matrix pulled from TMDB are -\",get_movie_genres_tmdb(\"The Matrix\"))"
   ]
  },
  {
   "cell_type": "code",
   "execution_count": 16,
   "metadata": {},
   "outputs": [
    {
     "name": "stdout",
     "output_type": "stream",
     "text": [
      "20\n"
     ]
    }
   ],
   "source": [
    "all_movies=tmdb.Movies()\n",
    "top_movies=all_movies.popular()\n",
    "\n",
    "# This is a dictionary, and to access results we use the key 'results' which returns info on 20 movies\n",
    "print(len(top_movies['results']))\n",
    "top20_movs=top_movies['results']"
   ]
  },
  {
   "cell_type": "code",
   "execution_count": 17,
   "metadata": {},
   "outputs": [
    {
     "name": "stdout",
     "output_type": "stream",
     "text": [
      "Here is all the information you can get on this movie - \n",
      "{'popularity': 156.168, 'vote_count': 200, 'video': False, 'poster_path': '/b5XfICAvUe8beWExBz97i0Qw4Qh.jpg', 'id': 612706, 'adult': False, 'backdrop_path': '/ishzDCZIv9iWfI70nv5E4ZreYUD.jpg', 'original_language': 'en', 'original_title': 'Work It', 'genre_ids': [35, 10402], 'title': 'Work It', 'vote_average': 8.1, 'overview': \"A brilliant but clumsy high school senior vows to get into her late father's alma mater by transforming herself and a misfit squad into dance champions.\", 'release_date': '2020-08-07'}\n",
      "\n",
      "\n",
      "The title of the first movie is -  Work It\n"
     ]
    }
   ],
   "source": [
    "first_movie=top20_movs[0]\n",
    "print(\"Here is all the information you can get on this movie - \")\n",
    "print(first_movie)\n",
    "print(\"\\n\\nThe title of the first movie is - \", first_movie['title'])"
   ]
  },
  {
   "cell_type": "code",
   "execution_count": 18,
   "metadata": {},
   "outputs": [],
   "source": [
    "Top_20_movies = []\n",
    "for i in range(len(top20_movs)):\n",
    "    mov=top20_movs[i]\n",
    "    title=mov['title']\n",
    "#     img=mov['poster_path']\n",
    "    Top_20_movies.append(title)\n",
    "#     print(title)\n",
    "#     print(img)\n",
    "    if i==20:\n",
    "        break"
   ]
  },
  {
   "cell_type": "code",
   "execution_count": 19,
   "metadata": {},
   "outputs": [
    {
     "data": {
      "text/plain": [
       "['Work It',\n",
       " 'The Kissing Booth 2',\n",
       " 'Deathstroke: Knights & Dragons - The Movie',\n",
       " 'The Tax Collector',\n",
       " 'Deep Blue Sea 3',\n",
       " 'An American Pickle',\n",
       " 'Scoob!',\n",
       " 'Madam',\n",
       " 'Greyhound',\n",
       " 'Joker',\n",
       " 'Inception',\n",
       " 'Avengers: Infinity War',\n",
       " 'Made in Italy',\n",
       " 'Coma',\n",
       " 'Interstellar',\n",
       " 'Star Wars: The Rise of Skywalker',\n",
       " 'The Old Guard',\n",
       " 'The Secret Garden',\n",
       " 'Parasite',\n",
       " 'Birds of Prey (and the Fantabulous Emancipation of One Harley Quinn)']"
      ]
     },
     "execution_count": 19,
     "metadata": {},
     "output_type": "execute_result"
    }
   ],
   "source": [
    "Top_20_movies"
   ]
  },
  {
   "cell_type": "code",
   "execution_count": 20,
   "metadata": {},
   "outputs": [
    {
     "data": {
      "text/plain": [
       "20"
      ]
     },
     "execution_count": 20,
     "metadata": {},
     "output_type": "execute_result"
    }
   ],
   "source": [
    "len(Top_20_movies)"
   ]
  },
  {
   "cell_type": "code",
   "execution_count": 21,
   "metadata": {
    "scrolled": true
   },
   "outputs": [
    {
     "data": {
      "text/plain": [
       "['https://m.media-amazon.com/images/M/MV5BMDk5NjVlOGQtMGQ1Zi00MjZlLWI0NGUtYTllMWNiODRlYmUzXkEyXkFqcGdeQXVyNjEwNTM2Mzc@.jpg',\n",
       " 'https://m.media-amazon.com/images/M/MV5BOWQ5ZGU2ZGQtOTJjYi00MWI3LWE1ZDQtM2EzOGI2MzJjNTA4XkEyXkFqcGdeQXVyMTkxNjUyNQ@@.jpg',\n",
       " 'https://m.media-amazon.com/images/M/MV5BODZkYzM3M2YtYzA1MC00ZGZkLTkzZTgtZWZiMDYwNjliNjFlXkEyXkFqcGdeQXVyODg1MTc3MTM@.jpg',\n",
       " 'https://m.media-amazon.com/images/M/MV5BMmFmZTdhYmItNjIyZS00ZjVlLWFjZjgtMjMyMDA5ZmVjNzE0XkEyXkFqcGdeQXVyMDM2NDM2MQ@@.jpg',\n",
       " 'https://m.media-amazon.com/images/M/MV5BNTI1YmU4NmItZTc4NC00NzA2LWJiMjYtMmE0Njg5M2U2N2VhXkEyXkFqcGdeQXVyNTM0NTU5Mg@@.jpg',\n",
       " 'https://m.media-amazon.com/images/M/MV5BNmRkZmZiNzUtMzgwYy00NTEzLWE2NjctMmI3NGI5ZTBiNDdkXkEyXkFqcGdeQXVyNzE3ODQxNjU@.jpg',\n",
       " 'https://m.media-amazon.com/images/M/MV5BZTJmODM0MDQtMTRjYy00YWZjLThjODItMzQ5N2I2NDBjYzA1XkEyXkFqcGdeQXVyMDA4NzMyOA@@.jpg',\n",
       " 'https://m.media-amazon.com/images/M/MV5BOWJiMTNiNDktZGM1ZS00NmU3LWFiNmQtNjc0ZjNlMTU5ZjAzXkEyXkFqcGdeQXVyNjg4NzAyOTA@.jpg',\n",
       " 'https://m.media-amazon.com/images/M/MV5BZTFkZjYxNWItZmE2MC00MGE4LWIxYTgtZmIzOWM1YmI2YWEzXkEyXkFqcGdeQXVyMDM2NDM2MQ@@.jpg',\n",
       " 'https://m.media-amazon.com/images/M/MV5BNGVjNWI4ZGUtNzE0MS00YTJmLWE0ZDctN2ZiYTk2YmI3NTYyXkEyXkFqcGdeQXVyMTkxNjUyNQ@@.jpg',\n",
       " 'https://m.media-amazon.com/images/M/MV5BMjAxMzY3NjcxNF5BMl5BanBnXkFtZTcwNTI5OTM0Mw@@.jpg',\n",
       " 'https://m.media-amazon.com/images/M/MV5BMjMxNjY2MDU1OV5BMl5BanBnXkFtZTgwNzY1MTUwNTM@.jpg',\n",
       " 'https://m.media-amazon.com/images/M/MV5BYjIxNTk0MDEtNGE2Yy00MmRmLThmMjktZjU2ODI5OGQ3MTYwXkEyXkFqcGdeQXVyMTkxNjUyNQ@@.jpg',\n",
       " 'https://m.media-amazon.com/images/M/MV5BZDc3OWJkMWEtMTlmOC00OGU4LTk3MDYtZDE3OTNiZGRhMmMxXkEyXkFqcGdeQXVyNjYzMTAzNTY@.jpg',\n",
       " 'https://m.media-amazon.com/images/M/MV5BZjdkOTU3MDktN2IxOS00OGEyLWFmMjktY2FiMmZkNWIyODZiXkEyXkFqcGdeQXVyMTMxODk2OTU@.jpg',\n",
       " 'https://m.media-amazon.com/images/M/MV5BMDljNTQ5ODItZmQwMy00M2ExLTljOTQtZTVjNGE2NTg0NGIxXkEyXkFqcGdeQXVyODkzNTgxMDg@.jpg',\n",
       " 'https://m.media-amazon.com/images/M/MV5BNDJiZDliZDAtMjc5Yy00MzVhLThkY2MtNDYwNTQ2ZTM5MDcxXkEyXkFqcGdeQXVyMDA4NzMyOA@@.jpg',\n",
       " 'https://m.media-amazon.com/images/M/MV5BNzQ4OGU3NjUtOGRiNS00NmFkLWE4MmMtODhiNmJjMjBmZWNjXkEyXkFqcGdeQXVyMTkxNjUyNQ@@.jpg',\n",
       " 'https://m.media-amazon.com/images/M/MV5BYWZjMjk3ZTItODQ2ZC00NTY5LWE0ZDYtZTI3MjcwN2Q5NTVkXkEyXkFqcGdeQXVyODk4OTc3MTY@.jpg',\n",
       " 'https://m.media-amazon.com/images/M/MV5BMTczMDgzNjU5OV5BMl5BanBnXkFtZTgwNzE3NjE5NzM@.jpg']"
      ]
     },
     "execution_count": 21,
     "metadata": {},
     "output_type": "execute_result"
    }
   ],
   "source": [
    "Top_20_movies_posters = []\n",
    "for i in Top_20_movies:\n",
    "    try:\n",
    "        results = imbd_object.search_movie(str([i]))\n",
    "        movie = results[0]\n",
    "        imbd_object.update(movie)\n",
    "#         print(movie['full-size cover url'])\n",
    "        Top_20_movies_posters.append(movie['full-size cover url'])\n",
    "    except:\n",
    "                print(\"no image found\")\n",
    "\n",
    "Top_20_movies_posters"
   ]
  },
  {
   "cell_type": "code",
   "execution_count": 22,
   "metadata": {},
   "outputs": [
    {
     "data": {
      "text/html": [
       "<div>\n",
       "<style scoped>\n",
       "    .dataframe tbody tr th:only-of-type {\n",
       "        vertical-align: middle;\n",
       "    }\n",
       "\n",
       "    .dataframe tbody tr th {\n",
       "        vertical-align: top;\n",
       "    }\n",
       "\n",
       "    .dataframe thead th {\n",
       "        text-align: right;\n",
       "    }\n",
       "</style>\n",
       "<table border=\"1\" class=\"dataframe\">\n",
       "  <thead>\n",
       "    <tr style=\"text-align: right;\">\n",
       "      <th></th>\n",
       "      <th>movie name</th>\n",
       "      <th>poster URL</th>\n",
       "    </tr>\n",
       "  </thead>\n",
       "  <tbody>\n",
       "    <tr>\n",
       "      <td>0</td>\n",
       "      <td>Work It</td>\n",
       "      <td>https://m.media-amazon.com/images/M/MV5BMDk5Nj...</td>\n",
       "    </tr>\n",
       "    <tr>\n",
       "      <td>1</td>\n",
       "      <td>The Kissing Booth 2</td>\n",
       "      <td>https://m.media-amazon.com/images/M/MV5BOWQ5ZG...</td>\n",
       "    </tr>\n",
       "    <tr>\n",
       "      <td>2</td>\n",
       "      <td>Deathstroke: Knights &amp; Dragons - The Movie</td>\n",
       "      <td>https://m.media-amazon.com/images/M/MV5BODZkYz...</td>\n",
       "    </tr>\n",
       "    <tr>\n",
       "      <td>3</td>\n",
       "      <td>The Tax Collector</td>\n",
       "      <td>https://m.media-amazon.com/images/M/MV5BMmFmZT...</td>\n",
       "    </tr>\n",
       "    <tr>\n",
       "      <td>4</td>\n",
       "      <td>Deep Blue Sea 3</td>\n",
       "      <td>https://m.media-amazon.com/images/M/MV5BNTI1Ym...</td>\n",
       "    </tr>\n",
       "    <tr>\n",
       "      <td>5</td>\n",
       "      <td>An American Pickle</td>\n",
       "      <td>https://m.media-amazon.com/images/M/MV5BNmRkZm...</td>\n",
       "    </tr>\n",
       "    <tr>\n",
       "      <td>6</td>\n",
       "      <td>Scoob!</td>\n",
       "      <td>https://m.media-amazon.com/images/M/MV5BZTJmOD...</td>\n",
       "    </tr>\n",
       "    <tr>\n",
       "      <td>7</td>\n",
       "      <td>Madam</td>\n",
       "      <td>https://m.media-amazon.com/images/M/MV5BOWJiMT...</td>\n",
       "    </tr>\n",
       "    <tr>\n",
       "      <td>8</td>\n",
       "      <td>Greyhound</td>\n",
       "      <td>https://m.media-amazon.com/images/M/MV5BZTFkZj...</td>\n",
       "    </tr>\n",
       "    <tr>\n",
       "      <td>9</td>\n",
       "      <td>Joker</td>\n",
       "      <td>https://m.media-amazon.com/images/M/MV5BNGVjNW...</td>\n",
       "    </tr>\n",
       "    <tr>\n",
       "      <td>10</td>\n",
       "      <td>Inception</td>\n",
       "      <td>https://m.media-amazon.com/images/M/MV5BMjAxMz...</td>\n",
       "    </tr>\n",
       "    <tr>\n",
       "      <td>11</td>\n",
       "      <td>Avengers: Infinity War</td>\n",
       "      <td>https://m.media-amazon.com/images/M/MV5BMjMxNj...</td>\n",
       "    </tr>\n",
       "    <tr>\n",
       "      <td>12</td>\n",
       "      <td>Made in Italy</td>\n",
       "      <td>https://m.media-amazon.com/images/M/MV5BYjIxNT...</td>\n",
       "    </tr>\n",
       "    <tr>\n",
       "      <td>13</td>\n",
       "      <td>Coma</td>\n",
       "      <td>https://m.media-amazon.com/images/M/MV5BZDc3OW...</td>\n",
       "    </tr>\n",
       "    <tr>\n",
       "      <td>14</td>\n",
       "      <td>Interstellar</td>\n",
       "      <td>https://m.media-amazon.com/images/M/MV5BZjdkOT...</td>\n",
       "    </tr>\n",
       "    <tr>\n",
       "      <td>15</td>\n",
       "      <td>Star Wars: The Rise of Skywalker</td>\n",
       "      <td>https://m.media-amazon.com/images/M/MV5BMDljNT...</td>\n",
       "    </tr>\n",
       "    <tr>\n",
       "      <td>16</td>\n",
       "      <td>The Old Guard</td>\n",
       "      <td>https://m.media-amazon.com/images/M/MV5BNDJiZD...</td>\n",
       "    </tr>\n",
       "    <tr>\n",
       "      <td>17</td>\n",
       "      <td>The Secret Garden</td>\n",
       "      <td>https://m.media-amazon.com/images/M/MV5BNzQ4OG...</td>\n",
       "    </tr>\n",
       "    <tr>\n",
       "      <td>18</td>\n",
       "      <td>Parasite</td>\n",
       "      <td>https://m.media-amazon.com/images/M/MV5BYWZjMj...</td>\n",
       "    </tr>\n",
       "    <tr>\n",
       "      <td>19</td>\n",
       "      <td>Birds of Prey (and the Fantabulous Emancipatio...</td>\n",
       "      <td>https://m.media-amazon.com/images/M/MV5BMTczMD...</td>\n",
       "    </tr>\n",
       "  </tbody>\n",
       "</table>\n",
       "</div>"
      ],
      "text/plain": [
       "                                           movie name  \\\n",
       "0                                             Work It   \n",
       "1                                 The Kissing Booth 2   \n",
       "2          Deathstroke: Knights & Dragons - The Movie   \n",
       "3                                   The Tax Collector   \n",
       "4                                     Deep Blue Sea 3   \n",
       "5                                  An American Pickle   \n",
       "6                                              Scoob!   \n",
       "7                                               Madam   \n",
       "8                                           Greyhound   \n",
       "9                                               Joker   \n",
       "10                                          Inception   \n",
       "11                             Avengers: Infinity War   \n",
       "12                                      Made in Italy   \n",
       "13                                               Coma   \n",
       "14                                       Interstellar   \n",
       "15                   Star Wars: The Rise of Skywalker   \n",
       "16                                      The Old Guard   \n",
       "17                                  The Secret Garden   \n",
       "18                                           Parasite   \n",
       "19  Birds of Prey (and the Fantabulous Emancipatio...   \n",
       "\n",
       "                                           poster URL  \n",
       "0   https://m.media-amazon.com/images/M/MV5BMDk5Nj...  \n",
       "1   https://m.media-amazon.com/images/M/MV5BOWQ5ZG...  \n",
       "2   https://m.media-amazon.com/images/M/MV5BODZkYz...  \n",
       "3   https://m.media-amazon.com/images/M/MV5BMmFmZT...  \n",
       "4   https://m.media-amazon.com/images/M/MV5BNTI1Ym...  \n",
       "5   https://m.media-amazon.com/images/M/MV5BNmRkZm...  \n",
       "6   https://m.media-amazon.com/images/M/MV5BZTJmOD...  \n",
       "7   https://m.media-amazon.com/images/M/MV5BOWJiMT...  \n",
       "8   https://m.media-amazon.com/images/M/MV5BZTFkZj...  \n",
       "9   https://m.media-amazon.com/images/M/MV5BNGVjNW...  \n",
       "10  https://m.media-amazon.com/images/M/MV5BMjAxMz...  \n",
       "11  https://m.media-amazon.com/images/M/MV5BMjMxNj...  \n",
       "12  https://m.media-amazon.com/images/M/MV5BYjIxNT...  \n",
       "13  https://m.media-amazon.com/images/M/MV5BZDc3OW...  \n",
       "14  https://m.media-amazon.com/images/M/MV5BZjdkOT...  \n",
       "15  https://m.media-amazon.com/images/M/MV5BMDljNT...  \n",
       "16  https://m.media-amazon.com/images/M/MV5BNDJiZD...  \n",
       "17  https://m.media-amazon.com/images/M/MV5BNzQ4OG...  \n",
       "18  https://m.media-amazon.com/images/M/MV5BYWZjMj...  \n",
       "19  https://m.media-amazon.com/images/M/MV5BMTczMD...  "
      ]
     },
     "execution_count": 22,
     "metadata": {},
     "output_type": "execute_result"
    }
   ],
   "source": [
    "import pandas as pd\n",
    "d = {'movie name': Top_20_movies, 'poster URL': Top_20_movies_posters}\n",
    "df = pd.DataFrame(data=d)\n",
    "df"
   ]
  },
  {
   "cell_type": "code",
   "execution_count": 23,
   "metadata": {},
   "outputs": [],
   "source": [
    "df.to_csv('top_20_movies_and_posters.csv', index=False)"
   ]
  },
  {
   "cell_type": "code",
   "execution_count": 29,
   "metadata": {},
   "outputs": [
    {
     "name": "stdout",
     "output_type": "stream",
     "text": [
      "[35, 10402]\n",
      "[35, 10749]\n",
      "[28, 16]\n",
      "[28, 80, 18, 53]\n",
      "[28, 27, 878]\n"
     ]
    }
   ],
   "source": [
    "for i in range(len(top20_movs)):\n",
    "    mov=top20_movs[i]\n",
    "    genres=mov['genre_ids']\n",
    "    print(genres)\n",
    "    if i==4:\n",
    "        break"
   ]
  },
  {
   "cell_type": "code",
   "execution_count": 39,
   "metadata": {},
   "outputs": [
    {
     "data": {
      "text/plain": [
       "<tmdbsimple.genres.Genres at 0x1bacc95bc48>"
      ]
     },
     "execution_count": 39,
     "metadata": {},
     "output_type": "execute_result"
    }
   ],
   "source": [
    "# Create a tmdb genre object!\n",
    "genres = tmdb.Genres()\n",
    "genres\n",
    "# https://api.themoviedb.org/3/genre/movie/list?api_key=800fce5ab1ec74ebb99a75833c65f3df&language=en-US"
   ]
  },
  {
   "cell_type": "code",
   "execution_count": 87,
   "metadata": {},
   "outputs": [
    {
     "data": {
      "text/plain": [
       "[{'id': 28, 'name': 'Action'},\n",
       " {'id': 12, 'name': 'Adventure'},\n",
       " {'id': 16, 'name': 'Animation'},\n",
       " {'id': 35, 'name': 'Comedy'},\n",
       " {'id': 80, 'name': 'Crime'},\n",
       " {'id': 99, 'name': 'Documentary'},\n",
       " {'id': 18, 'name': 'Drama'},\n",
       " {'id': 10751, 'name': 'Family'},\n",
       " {'id': 14, 'name': 'Fantasy'},\n",
       " {'id': 36, 'name': 'History'},\n",
       " {'id': 27, 'name': 'Horror'},\n",
       " {'id': 10402, 'name': 'Music'},\n",
       " {'id': 9648, 'name': 'Mystery'},\n",
       " {'id': 10749, 'name': 'Romance'},\n",
       " {'id': 878, 'name': 'Science Fiction'},\n",
       " {'id': 10770, 'name': 'TV Movie'},\n",
       " {'id': 53, 'name': 'Thriller'},\n",
       " {'id': 10752, 'name': 'War'},\n",
       " {'id': 37, 'name': 'Western'}]"
      ]
     },
     "execution_count": 87,
     "metadata": {},
     "output_type": "execute_result"
    }
   ],
   "source": [
    "list_of_genres = {\"genres\":[{\"id\":28,\"name\":\"Action\"},{\"id\":12,\"name\":\"Adventure\"},{\"id\":16,\"name\":\"Animation\"},{\"id\":35,\"name\":\"Comedy\"},{\"id\":80,\"name\":\"Crime\"},{\"id\":99,\"name\":\"Documentary\"},{\"id\":18,\"name\":\"Drama\"},{\"id\":10751,\"name\":\"Family\"},{\"id\":14,\"name\":\"Fantasy\"},{\"id\":36,\"name\":\"History\"},{\"id\":27,\"name\":\"Horror\"},{\"id\":10402,\"name\":\"Music\"},{\"id\":9648,\"name\":\"Mystery\"},{\"id\":10749,\"name\":\"Romance\"},{\"id\":878,\"name\":\"Science Fiction\"},{\"id\":10770,\"name\":\"TV Movie\"},{\"id\":53,\"name\":\"Thriller\"},{\"id\":10752,\"name\":\"War\"},{\"id\":37,\"name\":\"Western\"}]}\n",
    "list_of_genres = list_of_genres['genres']\n",
    "list_of_genres"
   ]
  },
  {
   "cell_type": "code",
   "execution_count": 88,
   "metadata": {},
   "outputs": [
    {
     "name": "stdout",
     "output_type": "stream",
     "text": [
      "['Action', 'Adventure', 'Animation', 'Comedy', 'Crime', 'Documentary', 'Drama', 'Family', 'Fantasy', 'History', 'Horror', 'Music', 'Mystery', 'Romance', 'Science Fiction', 'TV Movie', 'Thriller', 'War', 'Western']\n"
     ]
    }
   ],
   "source": [
    "list2 = []\n",
    "for i in range(len(list_of_genres)):\n",
    "    list2.append(list_of_genres[i][\"name\"])\n",
    "    \n",
    "print(list2)"
   ]
  },
  {
   "cell_type": "code",
   "execution_count": 66,
   "metadata": {},
   "outputs": [],
   "source": [
    "# list(list_of_genres.values())\n",
    "# genre_list=list(list_of_genres.values())\n",
    "Genre_list_df = pd.DataFrame(list_of_genres)"
   ]
  },
  {
   "cell_type": "code",
   "execution_count": 67,
   "metadata": {},
   "outputs": [
    {
     "data": {
      "text/html": [
       "<div>\n",
       "<style scoped>\n",
       "    .dataframe tbody tr th:only-of-type {\n",
       "        vertical-align: middle;\n",
       "    }\n",
       "\n",
       "    .dataframe tbody tr th {\n",
       "        vertical-align: top;\n",
       "    }\n",
       "\n",
       "    .dataframe thead th {\n",
       "        text-align: right;\n",
       "    }\n",
       "</style>\n",
       "<table border=\"1\" class=\"dataframe\">\n",
       "  <thead>\n",
       "    <tr style=\"text-align: right;\">\n",
       "      <th></th>\n",
       "      <th>genres</th>\n",
       "    </tr>\n",
       "  </thead>\n",
       "  <tbody>\n",
       "    <tr>\n",
       "      <td>0</td>\n",
       "      <td>{'id': 28, 'name': 'Action'}</td>\n",
       "    </tr>\n",
       "    <tr>\n",
       "      <td>1</td>\n",
       "      <td>{'id': 12, 'name': 'Adventure'}</td>\n",
       "    </tr>\n",
       "    <tr>\n",
       "      <td>2</td>\n",
       "      <td>{'id': 16, 'name': 'Animation'}</td>\n",
       "    </tr>\n",
       "    <tr>\n",
       "      <td>3</td>\n",
       "      <td>{'id': 35, 'name': 'Comedy'}</td>\n",
       "    </tr>\n",
       "    <tr>\n",
       "      <td>4</td>\n",
       "      <td>{'id': 80, 'name': 'Crime'}</td>\n",
       "    </tr>\n",
       "    <tr>\n",
       "      <td>5</td>\n",
       "      <td>{'id': 99, 'name': 'Documentary'}</td>\n",
       "    </tr>\n",
       "    <tr>\n",
       "      <td>6</td>\n",
       "      <td>{'id': 18, 'name': 'Drama'}</td>\n",
       "    </tr>\n",
       "    <tr>\n",
       "      <td>7</td>\n",
       "      <td>{'id': 10751, 'name': 'Family'}</td>\n",
       "    </tr>\n",
       "    <tr>\n",
       "      <td>8</td>\n",
       "      <td>{'id': 14, 'name': 'Fantasy'}</td>\n",
       "    </tr>\n",
       "    <tr>\n",
       "      <td>9</td>\n",
       "      <td>{'id': 36, 'name': 'History'}</td>\n",
       "    </tr>\n",
       "    <tr>\n",
       "      <td>10</td>\n",
       "      <td>{'id': 27, 'name': 'Horror'}</td>\n",
       "    </tr>\n",
       "    <tr>\n",
       "      <td>11</td>\n",
       "      <td>{'id': 10402, 'name': 'Music'}</td>\n",
       "    </tr>\n",
       "    <tr>\n",
       "      <td>12</td>\n",
       "      <td>{'id': 9648, 'name': 'Mystery'}</td>\n",
       "    </tr>\n",
       "    <tr>\n",
       "      <td>13</td>\n",
       "      <td>{'id': 10749, 'name': 'Romance'}</td>\n",
       "    </tr>\n",
       "    <tr>\n",
       "      <td>14</td>\n",
       "      <td>{'id': 878, 'name': 'Science Fiction'}</td>\n",
       "    </tr>\n",
       "    <tr>\n",
       "      <td>15</td>\n",
       "      <td>{'id': 10770, 'name': 'TV Movie'}</td>\n",
       "    </tr>\n",
       "    <tr>\n",
       "      <td>16</td>\n",
       "      <td>{'id': 53, 'name': 'Thriller'}</td>\n",
       "    </tr>\n",
       "    <tr>\n",
       "      <td>17</td>\n",
       "      <td>{'id': 10752, 'name': 'War'}</td>\n",
       "    </tr>\n",
       "    <tr>\n",
       "      <td>18</td>\n",
       "      <td>{'id': 37, 'name': 'Western'}</td>\n",
       "    </tr>\n",
       "  </tbody>\n",
       "</table>\n",
       "</div>"
      ],
      "text/plain": [
       "                                    genres\n",
       "0             {'id': 28, 'name': 'Action'}\n",
       "1          {'id': 12, 'name': 'Adventure'}\n",
       "2          {'id': 16, 'name': 'Animation'}\n",
       "3             {'id': 35, 'name': 'Comedy'}\n",
       "4              {'id': 80, 'name': 'Crime'}\n",
       "5        {'id': 99, 'name': 'Documentary'}\n",
       "6              {'id': 18, 'name': 'Drama'}\n",
       "7          {'id': 10751, 'name': 'Family'}\n",
       "8            {'id': 14, 'name': 'Fantasy'}\n",
       "9            {'id': 36, 'name': 'History'}\n",
       "10            {'id': 27, 'name': 'Horror'}\n",
       "11          {'id': 10402, 'name': 'Music'}\n",
       "12         {'id': 9648, 'name': 'Mystery'}\n",
       "13        {'id': 10749, 'name': 'Romance'}\n",
       "14  {'id': 878, 'name': 'Science Fiction'}\n",
       "15       {'id': 10770, 'name': 'TV Movie'}\n",
       "16          {'id': 53, 'name': 'Thriller'}\n",
       "17            {'id': 10752, 'name': 'War'}\n",
       "18           {'id': 37, 'name': 'Western'}"
      ]
     },
     "execution_count": 67,
     "metadata": {},
     "output_type": "execute_result"
    }
   ],
   "source": [
    "Genre_list_df"
   ]
  },
  {
   "cell_type": "code",
   "execution_count": 44,
   "metadata": {
    "scrolled": true
   },
   "outputs": [],
   "source": [
    "# Genre_ID_to_name={}\n",
    "# for i in range(len(list_of_genres)):\n",
    "#     genre_id=list_of_genres[i]['id']\n",
    "#     genre_name=list_of_genres[i]['name']\n",
    "#     Genre_ID_to_name[genre_id]=genre_name"
   ]
  },
  {
   "cell_type": "code",
   "execution_count": 45,
   "metadata": {},
   "outputs": [],
   "source": [
    "all_movies=tmdb.Movies()\n",
    "top_movies=all_movies.popular()\n",
    "\n",
    "# This is a dictionary, and to access results we use the key 'results' which returns info on 20 movies\n",
    "len(top_movies['results'])\n",
    "top20_movs=top_movies['results']"
   ]
  },
  {
   "cell_type": "code",
   "execution_count": 46,
   "metadata": {},
   "outputs": [
    {
     "name": "stdout",
     "output_type": "stream",
     "text": [
      "Pulling movie list, Please wait...\n",
      "Done!\n"
     ]
    }
   ],
   "source": [
    "# Comment out this cell once the data is saved into pickle file.\n",
    "# all_movies=tmdb.Movies()\n",
    "# top1000_movies=[]\n",
    "# print('Pulling movie list, Please wait...')\n",
    "# for i in range(1,51):\n",
    "#     if i%15==0:\n",
    "#         time.sleep(7)\n",
    "#     movies_on_this_page=all_movies.popular(page=i)['results']\n",
    "#     top1000_movies.extend(movies_on_this_page)\n",
    "# len(top1000_movies)\n",
    "# f3=open('movie_list.pckl','wb')\n",
    "# pickle.dump(top1000_movies,f3)\n",
    "# f3.close()\n",
    "# print('Done!')"
   ]
  },
  {
   "cell_type": "code",
   "execution_count": null,
   "metadata": {},
   "outputs": [],
   "source": [
    "f3=open('movie_list.pckl','rb')\n",
    "top1000_movies=pickle.load(f3)\n",
    "f3.close()"
   ]
  },
  {
   "cell_type": "code",
   "execution_count": null,
   "metadata": {},
   "outputs": [],
   "source": []
  },
  {
   "cell_type": "code",
   "execution_count": null,
   "metadata": {},
   "outputs": [],
   "source": []
  },
  {
   "cell_type": "code",
   "execution_count": null,
   "metadata": {},
   "outputs": [],
   "source": [
    "# This function just generates all possible pairs of movies\n",
    "def list2pairs(l):\n",
    "    # itertools.combinations(l,2) makes all pairs of length 2 from list l.\n",
    "    pairs = list(itertools.combinations(l, 2))\n",
    "    # then the one item pairs, as duplicate pairs aren't accounted for by itertools\n",
    "    for i in l:\n",
    "        pairs.append([i,i])\n",
    "    return pairs"
   ]
  },
  {
   "cell_type": "code",
   "execution_count": null,
   "metadata": {},
   "outputs": [],
   "source": [
    "print(visGrid.shape)\n",
    "print(len(Genre_ID_to_name.keys()))"
   ]
  },
  {
   "cell_type": "code",
   "execution_count": null,
   "metadata": {},
   "outputs": [],
   "source": [
    "# get all genre lists pairs from all movies\n",
    "allPairs = []\n",
    "for movie in top1000_movies:\n",
    "    allPairs.extend(list2pairs(movie['genre_ids']))\n",
    "    \n",
    "nr_ids = np.unique(allPairs)\n",
    "visGrid = np.zeros((len(nr_ids), len(nr_ids)))\n",
    "for p in allPairs:\n",
    "    visGrid[np.argwhere(nr_ids==p[0]), np.argwhere(nr_ids==p[1])]+=1\n",
    "    if p[1] != p[0]:\n",
    "        visGrid[np.argwhere(nr_ids==p[1]), np.argwhere(nr_ids==p[0])]+=1"
   ]
  },
  {
   "cell_type": "code",
   "execution_count": null,
   "metadata": {},
   "outputs": [],
   "source": [
    "Genre_ID_to_name[nr_ids]"
   ]
  },
  {
   "cell_type": "code",
   "execution_count": null,
   "metadata": {},
   "outputs": [],
   "source": [
    "annot_lookup = []\n",
    "for i in range(len(nr_ids)):\n",
    "#     annot_lookup.append\n",
    "    (Genre_ID_to_name[nr_ids[i]])\n",
    "\n",
    "sns.heatmap(visGrid, xticklabels=annot_lookup, yticklabels=annot_lookup)"
   ]
  },
  {
   "cell_type": "code",
   "execution_count": null,
   "metadata": {},
   "outputs": [],
   "source": [
    "nr_ids"
   ]
  },
  {
   "cell_type": "code",
   "execution_count": null,
   "metadata": {},
   "outputs": [],
   "source": []
  }
 ],
 "metadata": {
  "kernelspec": {
   "display_name": "Python 3",
   "language": "python",
   "name": "python3"
  },
  "language_info": {
   "codemirror_mode": {
    "name": "ipython",
    "version": 3
   },
   "file_extension": ".py",
   "mimetype": "text/x-python",
   "name": "python",
   "nbconvert_exporter": "python",
   "pygments_lexer": "ipython3",
   "version": "3.7.4"
  }
 },
 "nbformat": 4,
 "nbformat_minor": 2
}
